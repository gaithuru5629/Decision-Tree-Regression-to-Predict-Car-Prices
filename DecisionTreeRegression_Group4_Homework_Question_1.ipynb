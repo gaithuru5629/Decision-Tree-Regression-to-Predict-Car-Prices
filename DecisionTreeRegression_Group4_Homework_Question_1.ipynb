{
  "cells": [
    {
      "cell_type": "markdown",
      "id": "9c751126-5a78-48a6-9488-7b799d9648ba",
      "metadata": {
        "id": "9c751126-5a78-48a6-9488-7b799d9648ba"
      },
      "source": [
        "## Decision Tree Regression Homework - Question"
      ]
    },
    {
      "cell_type": "markdown",
      "id": "e63d4286-37fd-4e63-99f7-a7fe5419f464",
      "metadata": {
        "id": "e63d4286-37fd-4e63-99f7-a7fe5419f464"
      },
      "source": [
        "### Import libraries"
      ]
    },
    {
      "cell_type": "code",
      "execution_count": null,
      "id": "f2b33a8d-5d7a-4a61-9eca-65d283467213",
      "metadata": {
        "id": "f2b33a8d-5d7a-4a61-9eca-65d283467213"
      },
      "outputs": [],
      "source": [
        "# Load libraries\n",
        "import pandas as pd\n",
        "import numpy as np\n",
        "from sklearn.tree import DecisionTreeRegressor # Import Decision Tree Regressor\n",
        "from sklearn.model_selection import train_test_split \n",
        "\n",
        "#data pre-processing\n",
        "from sklearn import preprocessing\n",
        "\n",
        "#Decision tree visualization\n",
        "from sklearn import tree\n",
        "\n",
        "#module for accuracy calculation\n",
        "from sklearn import metrics \n",
        "from sklearn.metrics import r2_score, mean_absolute_error, mean_squared_error, mean_absolute_percentage_error\n",
        "\n",
        "#Decision tree visualization\n",
        "from matplotlib import pyplot as plt\n",
        "\n",
        "#table\n",
        "from tabulate import tabulate"
      ]
    },
    {
      "cell_type": "markdown",
      "id": "4b07c693-f8db-41de-acf7-f6b843ff0652",
      "metadata": {
        "id": "4b07c693-f8db-41de-acf7-f6b843ff0652"
      },
      "source": [
        "### Loading data "
      ]
    },
    {
      "cell_type": "code",
      "execution_count": null,
      "id": "dcc7d72c-45e7-48ce-95f1-b9d1f06ef7d7",
      "metadata": {
        "id": "dcc7d72c-45e7-48ce-95f1-b9d1f06ef7d7"
      },
      "outputs": [],
      "source": [
        "df = pd.read_csv('melb_data.csv')\n",
        "df.head()"
      ]
    },
    {
      "cell_type": "markdown",
      "id": "e0a840f9-2e8c-4244-b6b1-1ca149aa99f7",
      "metadata": {
        "id": "e0a840f9-2e8c-4244-b6b1-1ca149aa99f7"
      },
      "source": [
        "## Data preprocessing\n",
        "\n",
        "*Check for missing values\n",
        "*Drop rows with empty cells"
      ]
    },
    {
      "cell_type": "code",
      "execution_count": null,
      "id": "7aa1d3da-6fc6-49be-8d9c-262af545292f",
      "metadata": {
        "id": "7aa1d3da-6fc6-49be-8d9c-262af545292f"
      },
      "outputs": [],
      "source": []
    },
    {
      "cell_type": "markdown",
      "id": "33432cd3-5aff-426b-862c-e53f275a0ccf",
      "metadata": {
        "id": "33432cd3-5aff-426b-862c-e53f275a0ccf"
      },
      "source": [
        "### Factors that determine the selling price of a house are:\n",
        "\n",
        "*'Rooms', 'Type', 'Bathroom','Landsize','YearBuilt', 'Lattitude','Longtitude'"
      ]
    },
    {
      "cell_type": "markdown",
      "id": "b4686a65-d570-4710-98dc-2190a9761eb8",
      "metadata": {
        "id": "b4686a65-d570-4710-98dc-2190a9761eb8"
      },
      "source": [
        "Use label encoder to transform Type column to integers"
      ]
    },
    {
      "cell_type": "code",
      "execution_count": null,
      "id": "e50881d8-c2e8-4167-b7c4-bc26a1cb0623",
      "metadata": {
        "id": "e50881d8-c2e8-4167-b7c4-bc26a1cb0623"
      },
      "outputs": [],
      "source": []
    },
    {
      "cell_type": "code",
      "execution_count": null,
      "id": "64f2c958-e182-4b2b-8364-798592fbad13",
      "metadata": {
        "id": "64f2c958-e182-4b2b-8364-798592fbad13"
      },
      "outputs": [],
      "source": []
    },
    {
      "cell_type": "markdown",
      "id": "4b467170-9006-4e56-8979-1468a2b4cd7f",
      "metadata": {
        "id": "4b467170-9006-4e56-8979-1468a2b4cd7f"
      },
      "source": [
        "## Split data into features, target"
      ]
    },
    {
      "cell_type": "code",
      "execution_count": null,
      "id": "07eda830-d27f-46ed-8bf8-656d226d902b",
      "metadata": {
        "scrolled": true,
        "id": "07eda830-d27f-46ed-8bf8-656d226d902b"
      },
      "outputs": [],
      "source": [
        "# define feature variables\n",
        "features = ['Rooms', 'Type', 'Bathroom','Landsize','YearBuilt', 'Lattitude','Longtitude']\n",
        "x = df[features]"
      ]
    },
    {
      "cell_type": "code",
      "execution_count": null,
      "id": "42cabed5-92c6-4e57-8099-22e9f939019d",
      "metadata": {
        "id": "42cabed5-92c6-4e57-8099-22e9f939019d"
      },
      "outputs": [],
      "source": [
        "# define target variale\n",
        "y=df['Price']"
      ]
    },
    {
      "cell_type": "markdown",
      "id": "765040d1-e74d-4ca5-aa32-787201032e6d",
      "metadata": {
        "id": "765040d1-e74d-4ca5-aa32-787201032e6d"
      },
      "source": [
        "## Build decision tree regression model\n",
        "\n",
        "*splitting data into 80% for training and 20% for testing and random state 1."
      ]
    },
    {
      "cell_type": "code",
      "execution_count": null,
      "id": "1a4cbf99-7eab-413e-b1b2-d7ea0ab51b77",
      "metadata": {
        "id": "1a4cbf99-7eab-413e-b1b2-d7ea0ab51b77"
      },
      "outputs": [],
      "source": []
    },
    {
      "cell_type": "code",
      "execution_count": null,
      "id": "f29a26ae-d7b4-4ef9-a116-e60c8bb791b0",
      "metadata": {
        "id": "f29a26ae-d7b4-4ef9-a116-e60c8bb791b0"
      },
      "outputs": [],
      "source": [
        "# create a regressor object\n",
        "regressor = DecisionTreeRegressor(random_state = 0) \n",
        "  \n",
        "# fit the regressor with X and Y data\n",
        "regressor.fit(x_train, y_train)"
      ]
    },
    {
      "cell_type": "markdown",
      "id": "5581de65-6300-4054-9033-1563213ec6ba",
      "metadata": {
        "id": "5581de65-6300-4054-9033-1563213ec6ba"
      },
      "source": [
        "### Making predictions using trained model"
      ]
    },
    {
      "cell_type": "code",
      "execution_count": null,
      "id": "68cb45bf-24f0-4152-ad5f-b35dcb8ece1a",
      "metadata": {
        "id": "68cb45bf-24f0-4152-ad5f-b35dcb8ece1a"
      },
      "outputs": [],
      "source": []
    },
    {
      "cell_type": "code",
      "execution_count": null,
      "id": "b890b165-ac16-467e-9e71-4a09ad9be3db",
      "metadata": {
        "id": "b890b165-ac16-467e-9e71-4a09ad9be3db"
      },
      "outputs": [],
      "source": []
    },
    {
      "cell_type": "code",
      "execution_count": null,
      "id": "f8dd29ea-8b6b-475f-8a49-af9c5f3814ab",
      "metadata": {
        "id": "f8dd29ea-8b6b-475f-8a49-af9c5f3814ab"
      },
      "outputs": [],
      "source": [
        "print(np.concatenate((y_pred.reshape(len(y_pred),1), y_test.values.reshape(len(y_test),1)),1))"
      ]
    },
    {
      "cell_type": "markdown",
      "id": "af5fb0c2-30d8-415d-a62a-88c2c1a46d68",
      "metadata": {
        "id": "af5fb0c2-30d8-415d-a62a-88c2c1a46d68"
      },
      "source": [
        "## Visualize decision tree"
      ]
    },
    {
      "cell_type": "code",
      "execution_count": null,
      "id": "ca084254-9b65-4222-817d-51660cd98da4",
      "metadata": {
        "id": "ca084254-9b65-4222-817d-51660cd98da4"
      },
      "outputs": [],
      "source": [
        "fig_Tree = plt.figure(figsize=(25,20))\n",
        "_ = tree.plot_tree(regressor, \n",
        "                   feature_names=features,  \n",
        "                   filled=True)"
      ]
    },
    {
      "cell_type": "code",
      "execution_count": null,
      "id": "f9c97472-8bfc-4db1-b4f6-9573e4a7a5cb",
      "metadata": {
        "tags": [],
        "id": "f9c97472-8bfc-4db1-b4f6-9573e4a7a5cb"
      },
      "outputs": [],
      "source": [
        "# Save decision tree as PNG\n",
        "\n",
        "fig_Tree.savefig(\"decision_tree.png\")"
      ]
    },
    {
      "cell_type": "markdown",
      "id": "a3a6af5b-5886-4adb-942d-cf23b03e7640",
      "metadata": {
        "id": "a3a6af5b-5886-4adb-942d-cf23b03e7640"
      },
      "source": [
        "### Measuring the accuracy of the trained decision tree regressor model"
      ]
    },
    {
      "cell_type": "code",
      "execution_count": null,
      "id": "01bb0c5a-bf2b-4adb-bf7b-b1fe95367f23",
      "metadata": {
        "id": "01bb0c5a-bf2b-4adb-bf7b-b1fe95367f23"
      },
      "outputs": [],
      "source": [
        "#Table\n",
        "#create data\n",
        "data = [[\"r2_score\", r2_score(y_test, y_pred)], \n",
        "        [\"mean_squared_error\", mean_squared_error(y_test, y_pred)], \n",
        "        [\"mean_absolute_percentage_error\", mean_absolute_percentage_error(y_test, y_pred)], \n",
        "        [\"score\", regressor.score(x_test, y_pred)]]\n",
        "  \n",
        "#define header names\n",
        "col_names = [\" \", \"Trained Model\"]\n",
        "  \n",
        "#display table\n",
        "print(tabulate(data, headers=col_names))"
      ]
    },
    {
      "cell_type": "markdown",
      "id": "27b2f42e",
      "metadata": {
        "id": "27b2f42e"
      },
      "source": [
        "### Improving the Decision Tree Classifier's Accuracy by Tuning the Hyper-Parameters¶\n",
        "\n",
        "Applying the GridSearchCV class to find the best hyperparameters and apply cross-validation"
      ]
    },
    {
      "cell_type": "code",
      "execution_count": null,
      "id": "7868ecb0-d2e8-4132-a7d4-07189ef744e7",
      "metadata": {
        "id": "7868ecb0-d2e8-4132-a7d4-07189ef744e7"
      },
      "outputs": [],
      "source": [
        "# Creating a dictionary of parameters to use in GridSearchCV\n",
        "from sklearn.model_selection import GridSearchCV\n",
        "\n",
        "params = {\n",
        "    'criterion':  ['squared_error', 'friedman_mse', 'absolute_error', 'poisson'],\n",
        "    'max_depth':  [None, 2, 4, 6, 8, 10, 12, 14],\n",
        "    'max_features': [None, 'auto', 'sqrt', 'log2', 0.2, 0.4, 0.6, 0.8],\n",
        "    'splitter': ['best', 'random']\n",
        "}\n",
        "\n",
        "regressor = GridSearchCV(\n",
        "    estimator=DecisionTreeRegressor(),\n",
        "    param_grid=params,\n",
        "    cv=5,\n",
        "    n_jobs=5,\n",
        "    verbose=1,\n",
        ")\n",
        "\n",
        "regressor.fit(x_train, y_train)\n",
        "print(regressor.best_params_)"
      ]
    },
    {
      "cell_type": "markdown",
      "id": "09790f6e",
      "metadata": {
        "id": "09790f6e"
      },
      "source": [
        "#### Recreating the model using optimal parameters above, evaluating our model and checking the accuracy.\n",
        "\n",
        "*Using random state=0"
      ]
    },
    {
      "cell_type": "code",
      "execution_count": null,
      "id": "d16d973e-f45d-415c-be50-5112f84b2dff",
      "metadata": {
        "id": "d16d973e-f45d-415c-be50-5112f84b2dff"
      },
      "outputs": [],
      "source": []
    },
    {
      "cell_type": "code",
      "execution_count": null,
      "id": "cf57a43c-674b-4151-8691-eafe5990d212",
      "metadata": {
        "id": "cf57a43c-674b-4151-8691-eafe5990d212"
      },
      "outputs": [],
      "source": []
    },
    {
      "cell_type": "markdown",
      "id": "9a45bc77",
      "metadata": {
        "id": "9a45bc77"
      },
      "source": [
        "### Plotting the optimal decision tree"
      ]
    },
    {
      "cell_type": "code",
      "execution_count": null,
      "id": "60ce85f1-87d3-4a77-a72e-c1e204f5bb7b",
      "metadata": {
        "id": "60ce85f1-87d3-4a77-a72e-c1e204f5bb7b"
      },
      "outputs": [],
      "source": []
    },
    {
      "cell_type": "code",
      "execution_count": null,
      "id": "f9cc269d-ac5a-4c52-b8d6-f6da0191c818",
      "metadata": {
        "id": "f9cc269d-ac5a-4c52-b8d6-f6da0191c818"
      },
      "outputs": [],
      "source": []
    },
    {
      "cell_type": "markdown",
      "id": "641efa59",
      "metadata": {
        "id": "641efa59"
      },
      "source": [
        "### Comparing the results of the two models\n",
        "\n",
        "*using r2_score, mean_square_error, mean_absolute_percentage_error and score."
      ]
    },
    {
      "cell_type": "code",
      "execution_count": null,
      "id": "8f808940-1775-4817-92fa-0b4477f2ad5e",
      "metadata": {
        "id": "8f808940-1775-4817-92fa-0b4477f2ad5e"
      },
      "outputs": [],
      "source": []
    },
    {
      "cell_type": "code",
      "execution_count": null,
      "id": "fa88388f-de3b-4758-82aa-9b90fc55eb9a",
      "metadata": {
        "id": "fa88388f-de3b-4758-82aa-9b90fc55eb9a"
      },
      "outputs": [],
      "source": []
    }
  ],
  "metadata": {
    "kernelspec": {
      "display_name": "Python 3 (ipykernel)",
      "language": "python",
      "name": "python3"
    },
    "language_info": {
      "codemirror_mode": {
        "name": "ipython",
        "version": 3
      },
      "file_extension": ".py",
      "mimetype": "text/x-python",
      "name": "python",
      "nbconvert_exporter": "python",
      "pygments_lexer": "ipython3",
      "version": "3.7.0"
    },
    "colab": {
      "provenance": []
    }
  },
  "nbformat": 4,
  "nbformat_minor": 5
}